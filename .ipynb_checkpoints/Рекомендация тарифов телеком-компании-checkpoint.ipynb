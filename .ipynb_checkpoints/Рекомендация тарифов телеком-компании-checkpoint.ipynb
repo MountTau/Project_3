{
 "cells": [
  {
   "cell_type": "markdown",
   "metadata": {},
   "source": [
    "# Рекомендация тарифов"
   ]
  },
  {
   "cell_type": "markdown",
   "metadata": {},
   "source": [
    "## Подготовим данные"
   ]
  },
  {
   "cell_type": "code",
   "execution_count": 33,
   "metadata": {},
   "outputs": [],
   "source": [
    "# Импорт библиотек.\n",
    "import pandas as pd\n",
    "from sklearn.model_selection import train_test_split\n",
    "from sklearn.tree import DecisionTreeClassifier\n",
    "from sklearn.ensemble import RandomForestClassifier\n",
    "from sklearn.linear_model import LogisticRegression\n",
    "from sklearn.metrics import accuracy_score\n",
    "\n",
    "# Чтение файла с данными и сохранение в tariff.\n",
    "tariff = pd.read_csv('/datasets/users_behavior.csv')"
   ]
  },
  {
   "cell_type": "code",
   "execution_count": 34,
   "metadata": {},
   "outputs": [
    {
     "data": {
      "text/html": [
       "<div>\n",
       "<style scoped>\n",
       "    .dataframe tbody tr th:only-of-type {\n",
       "        vertical-align: middle;\n",
       "    }\n",
       "\n",
       "    .dataframe tbody tr th {\n",
       "        vertical-align: top;\n",
       "    }\n",
       "\n",
       "    .dataframe thead th {\n",
       "        text-align: right;\n",
       "    }\n",
       "</style>\n",
       "<table border=\"1\" class=\"dataframe\">\n",
       "  <thead>\n",
       "    <tr style=\"text-align: right;\">\n",
       "      <th></th>\n",
       "      <th>calls</th>\n",
       "      <th>minutes</th>\n",
       "      <th>messages</th>\n",
       "      <th>mb_used</th>\n",
       "      <th>is_ultra</th>\n",
       "    </tr>\n",
       "  </thead>\n",
       "  <tbody>\n",
       "    <tr>\n",
       "      <td>0</td>\n",
       "      <td>40.0</td>\n",
       "      <td>311.90</td>\n",
       "      <td>83.0</td>\n",
       "      <td>19915.42</td>\n",
       "      <td>0</td>\n",
       "    </tr>\n",
       "    <tr>\n",
       "      <td>1</td>\n",
       "      <td>85.0</td>\n",
       "      <td>516.75</td>\n",
       "      <td>56.0</td>\n",
       "      <td>22696.96</td>\n",
       "      <td>0</td>\n",
       "    </tr>\n",
       "    <tr>\n",
       "      <td>2</td>\n",
       "      <td>77.0</td>\n",
       "      <td>467.66</td>\n",
       "      <td>86.0</td>\n",
       "      <td>21060.45</td>\n",
       "      <td>0</td>\n",
       "    </tr>\n",
       "    <tr>\n",
       "      <td>3</td>\n",
       "      <td>106.0</td>\n",
       "      <td>745.53</td>\n",
       "      <td>81.0</td>\n",
       "      <td>8437.39</td>\n",
       "      <td>1</td>\n",
       "    </tr>\n",
       "    <tr>\n",
       "      <td>4</td>\n",
       "      <td>66.0</td>\n",
       "      <td>418.74</td>\n",
       "      <td>1.0</td>\n",
       "      <td>14502.75</td>\n",
       "      <td>0</td>\n",
       "    </tr>\n",
       "  </tbody>\n",
       "</table>\n",
       "</div>"
      ],
      "text/plain": [
       "   calls  minutes  messages   mb_used  is_ultra\n",
       "0   40.0   311.90      83.0  19915.42         0\n",
       "1   85.0   516.75      56.0  22696.96         0\n",
       "2   77.0   467.66      86.0  21060.45         0\n",
       "3  106.0   745.53      81.0   8437.39         1\n",
       "4   66.0   418.74       1.0  14502.75         0"
      ]
     },
     "metadata": {},
     "output_type": "display_data"
    },
    {
     "name": "stdout",
     "output_type": "stream",
     "text": [
      "<class 'pandas.core.frame.DataFrame'>\n",
      "RangeIndex: 3214 entries, 0 to 3213\n",
      "Data columns (total 5 columns):\n",
      "calls       3214 non-null float64\n",
      "minutes     3214 non-null float64\n",
      "messages    3214 non-null float64\n",
      "mb_used     3214 non-null float64\n",
      "is_ultra    3214 non-null int64\n",
      "dtypes: float64(4), int64(1)\n",
      "memory usage: 125.7 KB\n"
     ]
    },
    {
     "data": {
      "text/plain": [
       "None"
      ]
     },
     "metadata": {},
     "output_type": "display_data"
    }
   ],
   "source": [
    "# Получение первых 5 строк таблицы tariff и общую информацию о данных в таблице.\n",
    "display(tariff.head())\n",
    "display(tariff.info())"
   ]
  },
  {
   "cell_type": "code",
   "execution_count": 35,
   "metadata": {},
   "outputs": [
    {
     "data": {
      "text/plain": [
       "0"
      ]
     },
     "execution_count": 35,
     "metadata": {},
     "output_type": "execute_result"
    }
   ],
   "source": [
    "# Проверим на наличие явных дубликатов\n",
    "tariff.duplicated().sum()"
   ]
  },
  {
   "cell_type": "markdown",
   "metadata": {},
   "source": [
    "Датасет состоит из 3214 строк и 5 столбцов. Пропуски и дублткаты отсутствуют, тип данных столбцов соответствует содержанию.\n",
    "Каждый объект в наборе данных — это информация о поведении одного пользователя за месяц.\n",
    "- сalls — количество звонков,\n",
    "- minutes — суммарная длительность звонков в минутах,\n",
    "- messages — количество sms-сообщений,\n",
    "- mb_used — израсходованный интернет-трафик в Мб,\n",
    "- is_ultra — каким тарифом пользовался в течение месяца («Ультра» — 1, «Смарт» — 0)."
   ]
  },
  {
   "cell_type": "markdown",
   "metadata": {},
   "source": [
    "Необходимо разбить данные на 3 выборки - обучающую, валидационную и тестовую. Для этого разделим датасет на 2 части (60% обучающая и 40 % остальная). Остальную выборку разделим на 2 части, на тестовую и валидационную выборки (50/50). Таким образом мы разобьем датасет на обучающую, валидационную и тестовую выборки в соотношении 3:1:1."
   ]
  },
  {
   "cell_type": "code",
   "execution_count": 36,
   "metadata": {},
   "outputs": [],
   "source": [
    "# Разделим  данные на обучающую выборку и остальную\n",
    "tariff_train, tariff_other = train_test_split(tariff, test_size=0.4, random_state=1234)\n",
    "\n",
    "# Разделим остальную выборку на валидационную и тестовую.\n",
    "tariff_test, tariff_valid = train_test_split(tariff_other, test_size=0.5, random_state=1234)"
   ]
  },
  {
   "cell_type": "code",
   "execution_count": 37,
   "metadata": {},
   "outputs": [
    {
     "data": {
      "text/plain": [
       "(1928, 5)"
      ]
     },
     "metadata": {},
     "output_type": "display_data"
    },
    {
     "data": {
      "text/plain": [
       "(643, 5)"
      ]
     },
     "metadata": {},
     "output_type": "display_data"
    },
    {
     "data": {
      "text/plain": [
       "(643, 5)"
      ]
     },
     "metadata": {},
     "output_type": "display_data"
    }
   ],
   "source": [
    "# Прповерим соотношение выборок\n",
    "display(tariff_train.shape)\n",
    "display(tariff_test.shape)\n",
    "display(tariff_valid.shape)"
   ]
  },
  {
   "cell_type": "markdown",
   "metadata": {},
   "source": [
    "Разбили данные на 3 выборки:\n",
    "- tariff_train - обучающая выборка (60%);\n",
    "- tariff_valid - валидационная выборка (20%);\n",
    "- tariff_test - тестовая выборка (20%)."
   ]
  },
  {
   "cell_type": "markdown",
   "metadata": {},
   "source": [
    "## Исследуем модели"
   ]
  },
  {
   "cell_type": "code",
   "execution_count": 38,
   "metadata": {},
   "outputs": [],
   "source": [
    "# Создадим признаки и целевой признак для обучающей выборки\n",
    "features_train = tariff_train.drop(['is_ultra'], axis=1)\n",
    "target_train = tariff_train['is_ultra']\n",
    "\n",
    "# Создадим признаки и целевой признак для валидационной выборки\n",
    "features_valid = tariff_valid.drop(['is_ultra'], axis=1)\n",
    "target_valid = tariff_valid['is_ultra']"
   ]
  },
  {
   "cell_type": "markdown",
   "metadata": {},
   "source": [
    "### Решающее дерево"
   ]
  },
  {
   "cell_type": "code",
   "execution_count": 39,
   "metadata": {},
   "outputs": [
    {
     "name": "stdout",
     "output_type": "stream",
     "text": [
      "Accuracy модели логистической регрессии на валидационной выборке: 0.8055987558320373 при max_depth = 9\n"
     ]
    }
   ],
   "source": [
    "# обучим модель DecisionTreeClassifier на обучающей выборке и проверим на вылидационной выборке\n",
    "best_model = None\n",
    "best_result = 0\n",
    "best_dept = 0\n",
    "\n",
    "for depth in range(1, 10):\n",
    "    model_decision_tree = DecisionTreeClassifier(random_state=1234, max_depth=depth)\n",
    "    model_decision_tree.fit(features_train, target_train)\n",
    "    result = model_decision_tree.score(features_valid, target_valid)\n",
    "    if result > best_result:\n",
    "        best_model = model_decision_tree\n",
    "        best_result = result\n",
    "        best_dept = depth\n",
    "           \n",
    "print('Accuracy модели логистической регрессии на валидационной выборке:', best_result, 'при max_depth =', depth)"
   ]
  },
  {
   "cell_type": "markdown",
   "metadata": {},
   "source": [
    "### Случайный лес"
   ]
  },
  {
   "cell_type": "code",
   "execution_count": 40,
   "metadata": {},
   "outputs": [
    {
     "name": "stdout",
     "output_type": "stream",
     "text": [
      "Accuracy модели логистической регрессии на валидационной выборке: 0.7978227060653188 при n_estimators = 14\n"
     ]
    }
   ],
   "source": [
    "# обучим модель RandomForestClassifier на обучающей выборке и проверим на валидационной выборке\n",
    "best_model = None\n",
    "best_result = 0\n",
    "\n",
    "for est in range(1, 15):\n",
    "    model_random_forest = RandomForestClassifier(random_state=1234, n_estimators=est)\n",
    "    model_random_forest.fit(features_train, target_train)\n",
    "    result = model_random_forest.score(features_valid, target_valid)\n",
    "    if result > best_result:\n",
    "        best_model = model_random_forest\n",
    "        best_result = result\n",
    "                   \n",
    "print('Accuracy модели логистической регрессии на валидационной выборке:', best_result, 'при n_estimators =', est)"
   ]
  },
  {
   "cell_type": "code",
   "execution_count": 41,
   "metadata": {},
   "outputs": [
    {
     "name": "stdout",
     "output_type": "stream",
     "text": [
      "Accuracy модели логистической регрессии на валидационной выборке: 0.8195956454121306 при n_estimators = 15 при max_depth = 10\n"
     ]
    }
   ],
   "source": [
    "# обучим модель RandomForestClassifier на обучающей выборке и проверим на валидационной выборке\n",
    "best_model = None\n",
    "best_result = 0\n",
    "best_est = 0\n",
    "best_depth = 0\n",
    "\n",
    "for est in range(1, 16):\n",
    "    for depth in range(1, 11):\n",
    "        model_random_forest = RandomForestClassifier(random_state=1234, n_estimators=est, max_depth=depth)\n",
    "        model_random_forest.fit(features_train, target_train)\n",
    "        result = model_random_forest.score(features_valid, target_valid)\n",
    "        if result > best_result:\n",
    "            best_model = model_random_forest\n",
    "            best_result = result\n",
    "            best_est = est\n",
    "            best_depth = depth\n",
    "            \n",
    "                   \n",
    "print('Accuracy модели логистической регрессии на валидационной выборке:', best_result, 'при n_estimators =', est, \n",
    "      'при max_depth =', depth)"
   ]
  },
  {
   "cell_type": "markdown",
   "metadata": {},
   "source": [
    "### Логистическая регрессия"
   ]
  },
  {
   "cell_type": "code",
   "execution_count": 42,
   "metadata": {},
   "outputs": [
    {
     "name": "stdout",
     "output_type": "stream",
     "text": [
      "Accuracy модели логистической регрессии на валидационной выборке: 0.744945567651633\n"
     ]
    }
   ],
   "source": [
    "# обучим модель LogisticRegression на обучающей выбоке и проверим на валидационной выборке\n",
    "model_logistic_regression = LogisticRegression(random_state=1234, C=1, class_weight=None, dual=False, \n",
    "                                               fit_intercept=True, intercept_scaling=1, \n",
    "                                               l1_ratio=None, max_iter=100,\n",
    "                                               multi_class='warn', n_jobs=None, penalty='l2',\n",
    "                                               solver='lbfgs', tol=0.0001, verbose=0, \n",
    "                                               warm_start=False)\n",
    "model_logistic_regression.fit(features_train, target_train)\n",
    "result = model_logistic_regression.score(features_valid, target_valid)\n",
    "\n",
    "print('Accuracy модели логистической регрессии на валидационной выборке:', result)"
   ]
  },
  {
   "cell_type": "markdown",
   "metadata": {},
   "source": [
    "- Модель решающего дерева показала точность 0.805 при max_depth = 9;\n",
    "- Модель случайного леса на валидационной выборке показала точность 0.819 при n_estimators = 15 и max_depth = 10. Модель случайного леса лучше двух других моделей показала точность;\n",
    "- Модель логистической регрессии с разными гиперпараметрами на валидационной выборке показала точность 0.744 и не прошла порог в 0.75. Проверим ее точность на тестовой выборке."
   ]
  },
  {
   "cell_type": "markdown",
   "metadata": {},
   "source": [
    "## Проверка модели на тестовой выборке"
   ]
  },
  {
   "cell_type": "code",
   "execution_count": 43,
   "metadata": {},
   "outputs": [],
   "source": [
    "# Объединим обучающую и валидационныю выборки для последующего обучения\n",
    "features_merged = features_train.append(features_valid)\n",
    "target_merged = target_train.append(target_valid)\n",
    "\n",
    "# Создадим признаки и целевой признак для тестовой выборки\n",
    "features_test = tariff_test.drop(['is_ultra'], axis=1)\n",
    "target_test = tariff_test['is_ultra']\n"
   ]
  },
  {
   "cell_type": "markdown",
   "metadata": {},
   "source": [
    "### Решающее дерево при обучении на объединенной выборке"
   ]
  },
  {
   "cell_type": "code",
   "execution_count": 44,
   "metadata": {},
   "outputs": [
    {
     "name": "stdout",
     "output_type": "stream",
     "text": [
      "Accuracy модели логистической регрессии на тестовой выборке: 0.8118195956454122\n"
     ]
    }
   ],
   "source": [
    "# обучим модель DecisionTreeClassifier на объединенной выборке и проверим на тестовой выборке\n",
    "model_decision_tree = DecisionTreeClassifier(random_state=1234, max_depth=9)\n",
    "model_decision_tree.fit(features_merged, target_merged)\n",
    "model_decision_tree.predict(features_test)\n",
    "result = model_decision_tree.score(features_test, target_test)\n",
    "\n",
    "print('Accuracy модели логистической регрессии на тестовой выборке:', result)"
   ]
  },
  {
   "cell_type": "markdown",
   "metadata": {},
   "source": [
    "### Решающее дерево при обучении на обучающей выборке"
   ]
  },
  {
   "cell_type": "code",
   "execution_count": 45,
   "metadata": {},
   "outputs": [
    {
     "name": "stdout",
     "output_type": "stream",
     "text": [
      "Accuracy модели логистической регрессии на тестовой выборке: 0.8180404354587869\n"
     ]
    }
   ],
   "source": [
    "# обучим модель DecisionTreeClassifier на обучающей выборке и проверим на тестовой выборке\n",
    "model_decision_tree = DecisionTreeClassifier(random_state=1234, max_depth=9)\n",
    "model_decision_tree.fit(features_train, target_train)\n",
    "model_decision_tree.predict(features_test)\n",
    "result = model_decision_tree.score(features_test, target_test)\n",
    "\n",
    "print('Accuracy модели логистической регрессии на тестовой выборке:', result)"
   ]
  },
  {
   "cell_type": "markdown",
   "metadata": {},
   "source": [
    "### Случайный лес при обучении на объединенной выборке"
   ]
  },
  {
   "cell_type": "code",
   "execution_count": 47,
   "metadata": {},
   "outputs": [
    {
     "name": "stdout",
     "output_type": "stream",
     "text": [
      "Accuracy модели логистической регрессии на тестовой выборке: 0.833592534992224\n"
     ]
    }
   ],
   "source": [
    "# обучим модель RandomForestClassifier на объединенной выборке и проверим на тестовой выборке\n",
    "model_random_forest = RandomForestClassifier(random_state=1234, n_estimators=15, max_depth=10)\n",
    "model_random_forest.fit(features_merged, target_merged)\n",
    "model_random_forest.predict(features_test)\n",
    "result = model_random_forest.score(features_test, target_test)\n",
    "\n",
    "print('Accuracy модели логистической регрессии на тестовой выборке:', result)"
   ]
  },
  {
   "cell_type": "markdown",
   "metadata": {},
   "source": [
    "### Случайный лес при обучении на обучающей выборке"
   ]
  },
  {
   "cell_type": "code",
   "execution_count": 48,
   "metadata": {},
   "outputs": [
    {
     "name": "stdout",
     "output_type": "stream",
     "text": [
      "Accuracy модели логистической регрессии на тестовой выборке: 0.8040435458786936\n"
     ]
    }
   ],
   "source": [
    "# обучим модель RandomForestClassifier на обучающей выборке и проверим на тестовой выборке\n",
    "model_random_forest = RandomForestClassifier(random_state=1234, n_estimators=14)\n",
    "model_random_forest.fit(features_train, target_train)\n",
    "model_random_forest.predict(features_test)\n",
    "result = model_random_forest.score(features_test, target_test)\n",
    "\n",
    "print('Accuracy модели логистической регрессии на тестовой выборке:', result)"
   ]
  },
  {
   "cell_type": "code",
   "execution_count": 49,
   "metadata": {},
   "outputs": [
    {
     "name": "stdout",
     "output_type": "stream",
     "text": [
      "Accuracy модели логистической регрессии на тестовой выборке: 0.8304821150855366\n"
     ]
    }
   ],
   "source": [
    "# обучим модель RandomForestClassifier на обучающей выборке и проверим на тестовой выборке\n",
    "model_random_forest = RandomForestClassifier(random_state=1234, n_estimators=15, max_depth=10)\n",
    "model_random_forest.fit(features_train, target_train)\n",
    "model_random_forest.predict(features_test)\n",
    "result = model_random_forest.score(features_test, target_test)\n",
    "\n",
    "print('Accuracy модели логистической регрессии на тестовой выборке:', result)"
   ]
  },
  {
   "cell_type": "markdown",
   "metadata": {},
   "source": [
    "### Логистическая регрессия при обучении на объединенной выборке"
   ]
  },
  {
   "cell_type": "code",
   "execution_count": 50,
   "metadata": {},
   "outputs": [
    {
     "name": "stdout",
     "output_type": "stream",
     "text": [
      "Accuracy модели логистической регрессии на тестовой выборке: 0.71850699844479\n"
     ]
    }
   ],
   "source": [
    "# обучим модель LogisticRegression на объединенной выбоке и проверим на тестовой выборке\n",
    "model_logistic_regression = LogisticRegression(random_state=1234, solver='lbfgs')\n",
    "model_logistic_regression.fit(features_merged, target_merged)\n",
    "model_logistic_regression.predict(features_test)\n",
    "result = model_logistic_regression.score(features_test, target_test)\n",
    "\n",
    "print('Accuracy модели логистической регрессии на тестовой выборке:', result)"
   ]
  },
  {
   "cell_type": "markdown",
   "metadata": {},
   "source": [
    "### Логистическая регрессия при обучении на обучающей выборке"
   ]
  },
  {
   "cell_type": "code",
   "execution_count": 51,
   "metadata": {},
   "outputs": [
    {
     "name": "stdout",
     "output_type": "stream",
     "text": [
      "Accuracy модели логистической регрессии на тестовой выборке: 0.7589424572317263\n"
     ]
    }
   ],
   "source": [
    "# обучим модель LogisticRegression на обучающей выбоке и проверим на тестовой выборке\n",
    "model_logistic_regression = LogisticRegression(random_state=1234, solver='lbfgs')\n",
    "model_logistic_regression.fit(features_train, target_train)\n",
    "model_logistic_regression.predict(features_test)\n",
    "result = model_logistic_regression.score(features_test, target_test)\n",
    "\n",
    "print('Accuracy модели логистической регрессии на тестовой выборке:', result)"
   ]
  },
  {
   "cell_type": "markdown",
   "metadata": {},
   "source": [
    "- Модель решающего дерева в тестовой выборке при обучении на обучающей выборке показала точность 0.818 при max_depth = 9, хотя при обучении на объединенной выборке показала точность 0.811 (увеличилась);\n",
    "- Модель случайного леса в тестовой выборке при обучении на обучающей выборке показала точность 0.83 при n_estimators = 15 и max_depth = 10, а  при обучении на объединенной выборке показала точность 0.833 (уменьшилась)\n",
    "- Модель логистической регрессии в тестовой выборке при обучении на обучающей выборке показала точность 0.758 (увеличилась по сравнению с валидационной выборкой и прошла минимальный порог), а при обучении на объединенной выборке показала точность 0.718, не проходила порог в 0.75, также как и на валидационной выборке. "
   ]
  },
  {
   "cell_type": "markdown",
   "metadata": {},
   "source": [
    "## Проверка модели на адекватность"
   ]
  },
  {
   "cell_type": "markdown",
   "metadata": {},
   "source": [
    "Чтобы оценить адекватность модели в задачах классификации, нужно сравнить её со случайной. Так как у нас существует 2 значения целевого признака 0 и 1, то при предсказывании одного из двух случайных значений вероятность предсказать правильное значение была бы 50 % или 0.5, а модель решающего дерева показала 0.818, что превышает значение при случайном предсказывании, следовательно модель можно считать адекватной."
   ]
  },
  {
   "cell_type": "code",
   "execution_count": 53,
   "metadata": {},
   "outputs": [
    {
     "name": "stdout",
     "output_type": "stream",
     "text": [
      "Accuracy модели простейшей модели на тестовой выборке: 0.7060653188180405\n"
     ]
    }
   ],
   "source": [
    "from sklearn.dummy import DummyClassifier\n",
    "\n",
    "clf = DummyClassifier(strategy='most_frequent', random_state=1234)\n",
    "clf.fit(features_train, target_train)\n",
    "score = clf.score(features_test, target_test)\n",
    "\n",
    "print('Accuracy простейшей модели на тестовой выборке:', score)"
   ]
  },
  {
   "cell_type": "markdown",
   "metadata": {},
   "source": [
    "Accuracy простейшей модели, которая предсказывает наиболее часто встречающийся класс, на тестовой выборке: 0.7, что значит, что простейшая модель ошибается в 30 %, а точность модели случайного леса на тестовой выборке составляет 0.83, ошибается в 17 %, что почти в 2 раза меньше, чем у простейшей модели. Следовательно, проверка на адекватность пройдена."
   ]
  }
 ],
 "metadata": {
  "ExecuteTimeLog": [
   {
    "duration": 564,
    "start_time": "2022-01-21T14:12:06.448Z"
   },
   {
    "duration": 12,
    "start_time": "2022-01-21T14:12:33.299Z"
   },
   {
    "duration": 6,
    "start_time": "2022-01-21T15:22:31.940Z"
   },
   {
    "duration": 8,
    "start_time": "2022-01-21T15:24:06.435Z"
   },
   {
    "duration": 6,
    "start_time": "2022-01-21T15:24:13.896Z"
   },
   {
    "duration": 8,
    "start_time": "2022-01-21T15:25:00.634Z"
   },
   {
    "duration": 184,
    "start_time": "2022-01-21T15:27:58.743Z"
   },
   {
    "duration": 635,
    "start_time": "2022-01-21T15:28:31.600Z"
   },
   {
    "duration": 6,
    "start_time": "2022-01-21T15:28:32.237Z"
   },
   {
    "duration": 11,
    "start_time": "2022-01-21T15:28:32.245Z"
   },
   {
    "duration": 18,
    "start_time": "2022-01-21T15:28:32.257Z"
   },
   {
    "duration": 11,
    "start_time": "2022-01-21T15:28:32.277Z"
   },
   {
    "duration": 180,
    "start_time": "2022-01-21T15:30:50.366Z"
   },
   {
    "duration": 136,
    "start_time": "2022-01-21T15:32:17.258Z"
   },
   {
    "duration": 139,
    "start_time": "2022-01-21T15:39:09.954Z"
   },
   {
    "duration": 73,
    "start_time": "2022-01-21T15:39:18.331Z"
   },
   {
    "duration": 6,
    "start_time": "2022-01-21T15:39:18.407Z"
   },
   {
    "duration": 13,
    "start_time": "2022-01-21T15:39:18.415Z"
   },
   {
    "duration": 13,
    "start_time": "2022-01-21T15:39:18.430Z"
   },
   {
    "duration": 16,
    "start_time": "2022-01-21T15:39:18.445Z"
   },
   {
    "duration": 6,
    "start_time": "2022-01-21T15:41:48.115Z"
   },
   {
    "duration": 152,
    "start_time": "2022-01-21T15:42:00.246Z"
   },
   {
    "duration": 4,
    "start_time": "2022-01-21T15:42:18.679Z"
   },
   {
    "duration": 7,
    "start_time": "2022-01-21T15:43:05.635Z"
   },
   {
    "duration": 20,
    "start_time": "2022-01-21T15:59:23.114Z"
   },
   {
    "duration": 13,
    "start_time": "2022-01-21T15:59:23.136Z"
   },
   {
    "duration": 6,
    "start_time": "2022-01-21T15:59:23.151Z"
   },
   {
    "duration": 7,
    "start_time": "2022-01-21T15:59:23.158Z"
   },
   {
    "duration": 8,
    "start_time": "2022-01-21T15:59:23.166Z"
   },
   {
    "duration": 1019,
    "start_time": "2022-01-25T13:58:10.792Z"
   },
   {
    "duration": 17,
    "start_time": "2022-01-25T13:58:11.813Z"
   },
   {
    "duration": 6,
    "start_time": "2022-01-25T13:58:11.832Z"
   },
   {
    "duration": 6,
    "start_time": "2022-01-25T13:58:11.839Z"
   },
   {
    "duration": 5,
    "start_time": "2022-01-25T13:58:11.846Z"
   },
   {
    "duration": 4,
    "start_time": "2022-01-25T13:58:11.853Z"
   },
   {
    "duration": 61,
    "start_time": "2022-01-25T14:03:23.791Z"
   },
   {
    "duration": 370,
    "start_time": "2022-01-25T14:10:28.540Z"
   },
   {
    "duration": 261,
    "start_time": "2022-01-25T14:11:01.453Z"
   },
   {
    "duration": 285,
    "start_time": "2022-01-25T14:11:30.260Z"
   },
   {
    "duration": 19,
    "start_time": "2022-01-25T14:14:16.526Z"
   },
   {
    "duration": 11,
    "start_time": "2022-01-25T14:14:16.547Z"
   },
   {
    "duration": 5,
    "start_time": "2022-01-25T14:14:16.560Z"
   },
   {
    "duration": 6,
    "start_time": "2022-01-25T14:14:16.566Z"
   },
   {
    "duration": 6,
    "start_time": "2022-01-25T14:14:16.573Z"
   },
   {
    "duration": 5,
    "start_time": "2022-01-25T14:14:16.580Z"
   },
   {
    "duration": 265,
    "start_time": "2022-01-25T14:14:16.586Z"
   },
   {
    "duration": 254,
    "start_time": "2022-01-25T14:19:39.287Z"
   },
   {
    "duration": 253,
    "start_time": "2022-01-25T14:20:48.787Z"
   },
   {
    "duration": 278,
    "start_time": "2022-01-25T14:26:41.911Z"
   },
   {
    "duration": 261,
    "start_time": "2022-01-25T14:27:41.191Z"
   },
   {
    "duration": 305,
    "start_time": "2022-01-25T14:27:49.100Z"
   },
   {
    "duration": 251,
    "start_time": "2022-01-25T14:30:14.256Z"
   },
   {
    "duration": 262,
    "start_time": "2022-01-25T14:30:21.022Z"
   },
   {
    "duration": 19,
    "start_time": "2022-01-25T14:30:36.553Z"
   },
   {
    "duration": 13,
    "start_time": "2022-01-25T14:30:36.574Z"
   },
   {
    "duration": 5,
    "start_time": "2022-01-25T14:30:36.588Z"
   },
   {
    "duration": 5,
    "start_time": "2022-01-25T14:30:36.595Z"
   },
   {
    "duration": 6,
    "start_time": "2022-01-25T14:30:36.601Z"
   },
   {
    "duration": 5,
    "start_time": "2022-01-25T14:30:36.608Z"
   },
   {
    "duration": 253,
    "start_time": "2022-01-25T14:30:36.614Z"
   },
   {
    "duration": 264,
    "start_time": "2022-01-25T14:34:20.667Z"
   },
   {
    "duration": 85,
    "start_time": "2022-01-25T14:37:09.611Z"
   },
   {
    "duration": 96,
    "start_time": "2022-01-25T14:37:17.382Z"
   },
   {
    "duration": 253,
    "start_time": "2022-01-25T14:37:26.395Z"
   },
   {
    "duration": 297,
    "start_time": "2022-01-25T14:37:57.614Z"
   },
   {
    "duration": 44,
    "start_time": "2022-01-25T14:38:31.532Z"
   },
   {
    "duration": 86,
    "start_time": "2022-01-25T14:39:44.516Z"
   },
   {
    "duration": 857,
    "start_time": "2022-01-25T14:40:01.805Z"
   },
   {
    "duration": 44,
    "start_time": "2022-01-25T14:40:07.609Z"
   },
   {
    "duration": 45,
    "start_time": "2022-01-25T14:42:06.603Z"
   },
   {
    "duration": 45,
    "start_time": "2022-01-25T14:42:14.486Z"
   },
   {
    "duration": 46,
    "start_time": "2022-01-25T14:42:17.994Z"
   },
   {
    "duration": 20,
    "start_time": "2022-01-25T14:42:34.002Z"
   },
   {
    "duration": 11,
    "start_time": "2022-01-25T14:42:34.024Z"
   },
   {
    "duration": 5,
    "start_time": "2022-01-25T14:42:34.037Z"
   },
   {
    "duration": 6,
    "start_time": "2022-01-25T14:42:34.043Z"
   },
   {
    "duration": 8,
    "start_time": "2022-01-25T14:42:34.050Z"
   },
   {
    "duration": 4,
    "start_time": "2022-01-25T14:42:34.060Z"
   },
   {
    "duration": 50,
    "start_time": "2022-01-25T14:42:34.066Z"
   },
   {
    "duration": 48,
    "start_time": "2022-01-25T14:42:50.399Z"
   },
   {
    "duration": 180,
    "start_time": "2022-01-25T14:45:48.161Z"
   },
   {
    "duration": 186,
    "start_time": "2022-01-25T14:46:50.294Z"
   },
   {
    "duration": 399,
    "start_time": "2022-01-25T14:47:14.806Z"
   },
   {
    "duration": 176,
    "start_time": "2022-01-25T14:47:21.307Z"
   },
   {
    "duration": 404,
    "start_time": "2022-01-25T14:47:35.253Z"
   },
   {
    "duration": 397,
    "start_time": "2022-01-25T14:48:01.094Z"
   },
   {
    "duration": 406,
    "start_time": "2022-01-25T14:49:20.320Z"
   },
   {
    "duration": 428,
    "start_time": "2022-01-25T14:50:25.477Z"
   },
   {
    "duration": 22,
    "start_time": "2022-01-25T14:53:07.072Z"
   },
   {
    "duration": 22,
    "start_time": "2022-01-25T14:55:08.004Z"
   },
   {
    "duration": 141,
    "start_time": "2022-01-25T14:59:14.711Z"
   },
   {
    "duration": 263,
    "start_time": "2022-01-25T15:00:11.491Z"
   },
   {
    "duration": 11,
    "start_time": "2022-01-25T15:01:03.115Z"
   },
   {
    "duration": 92,
    "start_time": "2022-01-25T15:01:17.623Z"
   },
   {
    "duration": 297,
    "start_time": "2022-01-25T15:01:35.113Z"
   },
   {
    "duration": 23,
    "start_time": "2022-01-25T15:01:41.911Z"
   },
   {
    "duration": 40,
    "start_time": "2022-01-25T15:01:53.154Z"
   },
   {
    "duration": 24,
    "start_time": "2022-01-25T15:02:19.363Z"
   },
   {
    "duration": 23,
    "start_time": "2022-01-25T15:02:36.454Z"
   },
   {
    "duration": 25,
    "start_time": "2022-01-25T15:04:24.180Z"
   },
   {
    "duration": 27,
    "start_time": "2022-01-25T15:08:24.430Z"
   },
   {
    "duration": 284,
    "start_time": "2022-01-25T15:09:15.808Z"
   },
   {
    "duration": 22,
    "start_time": "2022-01-25T15:09:22.662Z"
   },
   {
    "duration": 18,
    "start_time": "2022-01-25T15:10:18.855Z"
   },
   {
    "duration": 13,
    "start_time": "2022-01-25T15:10:18.875Z"
   },
   {
    "duration": 13,
    "start_time": "2022-01-25T15:10:18.891Z"
   },
   {
    "duration": 17,
    "start_time": "2022-01-25T15:10:18.906Z"
   },
   {
    "duration": 29,
    "start_time": "2022-01-25T15:10:18.924Z"
   },
   {
    "duration": 12,
    "start_time": "2022-01-25T15:10:18.954Z"
   },
   {
    "duration": 53,
    "start_time": "2022-01-25T15:10:18.967Z"
   },
   {
    "duration": 400,
    "start_time": "2022-01-25T15:10:19.023Z"
   },
   {
    "duration": 24,
    "start_time": "2022-01-25T15:10:19.424Z"
   },
   {
    "duration": 46,
    "start_time": "2022-01-25T15:11:16.080Z"
   },
   {
    "duration": 46,
    "start_time": "2022-01-25T15:11:53.446Z"
   },
   {
    "duration": 420,
    "start_time": "2022-01-25T15:12:21.142Z"
   },
   {
    "duration": 264,
    "start_time": "2022-01-25T15:14:05.844Z"
   },
   {
    "duration": 25,
    "start_time": "2022-01-25T15:14:23.420Z"
   },
   {
    "duration": 8,
    "start_time": "2022-01-25T15:22:27.981Z"
   },
   {
    "duration": 294,
    "start_time": "2022-01-25T15:27:37.020Z"
   },
   {
    "duration": 5,
    "start_time": "2022-01-25T15:27:52.161Z"
   },
   {
    "duration": 13,
    "start_time": "2022-01-25T15:29:37.282Z"
   },
   {
    "duration": 12,
    "start_time": "2022-01-25T15:30:10.569Z"
   },
   {
    "duration": 13,
    "start_time": "2022-01-25T15:30:39.546Z"
   },
   {
    "duration": 15,
    "start_time": "2022-01-25T15:30:47.648Z"
   },
   {
    "duration": 11,
    "start_time": "2022-01-25T15:30:54.198Z"
   },
   {
    "duration": 13,
    "start_time": "2022-01-25T15:31:00.708Z"
   },
   {
    "duration": 71,
    "start_time": "2022-01-25T15:33:42.889Z"
   },
   {
    "duration": 24,
    "start_time": "2022-01-25T15:37:02.844Z"
   },
   {
    "duration": 130,
    "start_time": "2022-01-25T15:38:06.046Z"
   },
   {
    "duration": 15,
    "start_time": "2022-01-25T15:41:24.566Z"
   },
   {
    "duration": 57,
    "start_time": "2022-01-25T15:41:52.553Z"
   },
   {
    "duration": 23,
    "start_time": "2022-01-25T15:42:23.686Z"
   },
   {
    "duration": 19,
    "start_time": "2022-01-25T15:50:02.428Z"
   },
   {
    "duration": 14,
    "start_time": "2022-01-25T15:50:02.448Z"
   },
   {
    "duration": 7,
    "start_time": "2022-01-25T15:50:02.464Z"
   },
   {
    "duration": 7,
    "start_time": "2022-01-25T15:50:02.472Z"
   },
   {
    "duration": 7,
    "start_time": "2022-01-25T15:50:02.480Z"
   },
   {
    "duration": 5,
    "start_time": "2022-01-25T15:50:02.488Z"
   },
   {
    "duration": 45,
    "start_time": "2022-01-25T15:50:02.495Z"
   },
   {
    "duration": 407,
    "start_time": "2022-01-25T15:50:02.543Z"
   },
   {
    "duration": 28,
    "start_time": "2022-01-25T15:50:02.952Z"
   },
   {
    "duration": 4,
    "start_time": "2022-01-25T15:50:02.982Z"
   },
   {
    "duration": 14,
    "start_time": "2022-01-25T15:50:02.988Z"
   },
   {
    "duration": 11,
    "start_time": "2022-01-25T15:50:03.004Z"
   },
   {
    "duration": 96,
    "start_time": "2022-01-25T15:50:03.016Z"
   },
   {
    "duration": 65,
    "start_time": "2022-01-25T15:50:03.113Z"
   },
   {
    "duration": 97,
    "start_time": "2022-01-25T15:50:03.180Z"
   },
   {
    "duration": 114,
    "start_time": "2022-01-25T15:50:03.279Z"
   },
   {
    "duration": 389,
    "start_time": "2022-01-25T15:51:03.116Z"
   },
   {
    "duration": 392,
    "start_time": "2022-01-25T15:51:09.818Z"
   },
   {
    "duration": 5,
    "start_time": "2022-01-25T15:57:58.788Z"
   },
   {
    "duration": 5,
    "start_time": "2022-01-25T15:58:48.706Z"
   },
   {
    "duration": 12,
    "start_time": "2022-01-25T16:21:41.618Z"
   },
   {
    "duration": 22,
    "start_time": "2022-01-25T16:21:51.218Z"
   },
   {
    "duration": 23,
    "start_time": "2022-01-25T16:34:09.544Z"
   },
   {
    "duration": 24,
    "start_time": "2022-01-25T16:34:23.252Z"
   },
   {
    "duration": 23,
    "start_time": "2022-01-25T16:34:58.243Z"
   },
   {
    "duration": 2235,
    "start_time": "2022-01-25T16:35:13.873Z"
   },
   {
    "duration": 1903,
    "start_time": "2022-01-25T16:35:23.132Z"
   },
   {
    "duration": 1132,
    "start_time": "2022-01-25T16:35:33.604Z"
   },
   {
    "duration": 929,
    "start_time": "2022-01-25T16:35:45.483Z"
   },
   {
    "duration": 751,
    "start_time": "2022-01-25T16:35:53.854Z"
   },
   {
    "duration": 25,
    "start_time": "2022-01-25T16:36:24.562Z"
   },
   {
    "duration": 518,
    "start_time": "2022-01-25T16:36:28.252Z"
   },
   {
    "duration": 267,
    "start_time": "2022-01-25T16:37:00.541Z"
   },
   {
    "duration": 247,
    "start_time": "2022-01-25T16:37:06.481Z"
   },
   {
    "duration": 24,
    "start_time": "2022-01-25T16:37:18.899Z"
   },
   {
    "duration": 25,
    "start_time": "2022-01-25T16:38:47.833Z"
   },
   {
    "duration": 24,
    "start_time": "2022-01-25T16:38:57.683Z"
   },
   {
    "duration": 23,
    "start_time": "2022-01-25T16:39:03.699Z"
   },
   {
    "duration": 25,
    "start_time": "2022-01-25T16:39:08.267Z"
   },
   {
    "duration": 24,
    "start_time": "2022-01-25T16:39:11.935Z"
   },
   {
    "duration": 26,
    "start_time": "2022-01-25T16:39:23.925Z"
   },
   {
    "duration": 251,
    "start_time": "2022-01-25T16:39:38.059Z"
   },
   {
    "duration": 92,
    "start_time": "2022-01-25T16:40:57.784Z"
   },
   {
    "duration": 22,
    "start_time": "2022-01-25T16:41:02.408Z"
   },
   {
    "duration": 19,
    "start_time": "2022-01-25T17:02:27.068Z"
   },
   {
    "duration": 11,
    "start_time": "2022-01-25T17:02:27.089Z"
   },
   {
    "duration": 5,
    "start_time": "2022-01-25T17:02:27.102Z"
   },
   {
    "duration": 6,
    "start_time": "2022-01-25T17:02:27.109Z"
   },
   {
    "duration": 6,
    "start_time": "2022-01-25T17:02:27.116Z"
   },
   {
    "duration": 4,
    "start_time": "2022-01-25T17:02:27.124Z"
   },
   {
    "duration": 84,
    "start_time": "2022-01-25T17:02:27.130Z"
   },
   {
    "duration": 445,
    "start_time": "2022-01-25T17:02:27.216Z"
   },
   {
    "duration": 30,
    "start_time": "2022-01-25T17:02:27.663Z"
   },
   {
    "duration": 5,
    "start_time": "2022-01-25T17:02:27.695Z"
   },
   {
    "duration": 17,
    "start_time": "2022-01-25T17:02:27.701Z"
   },
   {
    "duration": 12,
    "start_time": "2022-01-25T17:02:27.720Z"
   },
   {
    "duration": 103,
    "start_time": "2022-01-25T17:02:27.734Z"
   },
   {
    "duration": 72,
    "start_time": "2022-01-25T17:02:27.839Z"
   },
   {
    "duration": 159,
    "start_time": "2022-01-25T17:02:27.913Z"
   },
   {
    "duration": 116,
    "start_time": "2022-01-25T17:02:28.075Z"
   },
   {
    "duration": 1210,
    "start_time": "2022-01-26T11:20:43.986Z"
   },
   {
    "duration": 22,
    "start_time": "2022-01-26T11:20:45.198Z"
   },
   {
    "duration": 19,
    "start_time": "2022-01-26T11:20:45.222Z"
   },
   {
    "duration": 9,
    "start_time": "2022-01-26T11:20:45.243Z"
   },
   {
    "duration": 15,
    "start_time": "2022-01-26T11:20:45.254Z"
   },
   {
    "duration": 8,
    "start_time": "2022-01-26T11:20:45.271Z"
   },
   {
    "duration": 66,
    "start_time": "2022-01-26T11:20:45.281Z"
   },
   {
    "duration": 478,
    "start_time": "2022-01-26T11:20:45.351Z"
   },
   {
    "duration": 371,
    "start_time": "2022-01-26T11:20:45.831Z"
   },
   {
    "duration": 2952,
    "start_time": "2022-01-26T11:20:43.252Z"
   },
   {
    "duration": 2952,
    "start_time": "2022-01-26T11:20:43.254Z"
   },
   {
    "duration": 2951,
    "start_time": "2022-01-26T11:20:43.256Z"
   },
   {
    "duration": 2948,
    "start_time": "2022-01-26T11:20:43.260Z"
   },
   {
    "duration": 2946,
    "start_time": "2022-01-26T11:20:43.263Z"
   },
   {
    "duration": 2945,
    "start_time": "2022-01-26T11:20:43.265Z"
   },
   {
    "duration": 2943,
    "start_time": "2022-01-26T11:20:43.268Z"
   },
   {
    "duration": 2942,
    "start_time": "2022-01-26T11:20:43.270Z"
   },
   {
    "duration": 11025,
    "start_time": "2022-01-26T11:22:08.072Z"
   },
   {
    "duration": 5975,
    "start_time": "2022-01-26T11:22:42.174Z"
   },
   {
    "duration": 2554,
    "start_time": "2022-01-26T11:23:08.885Z"
   },
   {
    "duration": 6008,
    "start_time": "2022-01-26T11:23:18.390Z"
   },
   {
    "duration": 5976,
    "start_time": "2022-01-26T11:26:18.118Z"
   },
   {
    "duration": 35,
    "start_time": "2022-01-26T11:26:24.097Z"
   },
   {
    "duration": 6,
    "start_time": "2022-01-26T11:26:29.056Z"
   },
   {
    "duration": 16,
    "start_time": "2022-01-26T11:26:30.151Z"
   },
   {
    "duration": 15,
    "start_time": "2022-01-26T11:26:37.600Z"
   },
   {
    "duration": 2813,
    "start_time": "2022-01-26T11:27:25.311Z"
   },
   {
    "duration": 2844,
    "start_time": "2022-01-26T11:27:40.486Z"
   },
   {
    "duration": 3236,
    "start_time": "2022-01-26T11:27:58.737Z"
   },
   {
    "duration": 87,
    "start_time": "2022-01-26T11:34:01.716Z"
   },
   {
    "duration": 78,
    "start_time": "2022-01-26T11:35:17.251Z"
   },
   {
    "duration": 70,
    "start_time": "2022-01-26T11:35:22.746Z"
   },
   {
    "duration": 59,
    "start_time": "2022-01-26T11:35:27.695Z"
   },
   {
    "duration": 61,
    "start_time": "2022-01-26T11:35:41.003Z"
   },
   {
    "duration": 94,
    "start_time": "2022-01-26T11:35:42.520Z"
   },
   {
    "duration": 29,
    "start_time": "2022-01-26T11:35:44.153Z"
   },
   {
    "duration": 7,
    "start_time": "2022-01-26T11:55:26.678Z"
   },
   {
    "duration": 7,
    "start_time": "2022-01-26T11:55:40.491Z"
   },
   {
    "duration": 2943,
    "start_time": "2022-01-26T12:04:27.414Z"
   },
   {
    "duration": 2940,
    "start_time": "2022-01-26T12:04:27.419Z"
   },
   {
    "duration": 2940,
    "start_time": "2022-01-26T12:04:27.421Z"
   },
   {
    "duration": 2939,
    "start_time": "2022-01-26T12:04:27.424Z"
   },
   {
    "duration": 2938,
    "start_time": "2022-01-26T12:04:27.427Z"
   },
   {
    "duration": 2938,
    "start_time": "2022-01-26T12:04:27.429Z"
   },
   {
    "duration": 2933,
    "start_time": "2022-01-26T12:04:27.435Z"
   },
   {
    "duration": 2932,
    "start_time": "2022-01-26T12:04:27.438Z"
   },
   {
    "duration": 2932,
    "start_time": "2022-01-26T12:04:27.440Z"
   },
   {
    "duration": 2932,
    "start_time": "2022-01-26T12:04:27.442Z"
   },
   {
    "duration": 2929,
    "start_time": "2022-01-26T12:04:27.447Z"
   },
   {
    "duration": 2929,
    "start_time": "2022-01-26T12:04:27.449Z"
   },
   {
    "duration": 2929,
    "start_time": "2022-01-26T12:04:27.451Z"
   },
   {
    "duration": 2930,
    "start_time": "2022-01-26T12:04:27.452Z"
   },
   {
    "duration": 2930,
    "start_time": "2022-01-26T12:04:27.454Z"
   },
   {
    "duration": 2950,
    "start_time": "2022-01-26T12:04:27.456Z"
   },
   {
    "duration": 2942,
    "start_time": "2022-01-26T12:04:27.466Z"
   },
   {
    "duration": 2941,
    "start_time": "2022-01-26T12:04:27.469Z"
   },
   {
    "duration": 2941,
    "start_time": "2022-01-26T12:04:27.471Z"
   },
   {
    "duration": 2943,
    "start_time": "2022-01-26T12:04:27.473Z"
   },
   {
    "duration": 21,
    "start_time": "2022-01-26T12:04:49.003Z"
   },
   {
    "duration": 21,
    "start_time": "2022-01-26T12:04:53.508Z"
   },
   {
    "duration": 28,
    "start_time": "2022-01-26T12:04:53.532Z"
   },
   {
    "duration": 14,
    "start_time": "2022-01-26T12:04:53.562Z"
   },
   {
    "duration": 19,
    "start_time": "2022-01-26T12:04:53.578Z"
   },
   {
    "duration": 9,
    "start_time": "2022-01-26T12:04:53.599Z"
   },
   {
    "duration": 8,
    "start_time": "2022-01-26T12:04:53.610Z"
   },
   {
    "duration": 57,
    "start_time": "2022-01-26T12:04:53.620Z"
   },
   {
    "duration": 485,
    "start_time": "2022-01-26T12:04:53.680Z"
   },
   {
    "duration": 3497,
    "start_time": "2022-01-26T12:04:54.167Z"
   },
   {
    "duration": 41,
    "start_time": "2022-01-26T12:04:57.666Z"
   },
   {
    "duration": 6,
    "start_time": "2022-01-26T12:04:57.709Z"
   },
   {
    "duration": 35,
    "start_time": "2022-01-26T12:04:57.716Z"
   },
   {
    "duration": 17,
    "start_time": "2022-01-26T12:04:57.753Z"
   },
   {
    "duration": 91,
    "start_time": "2022-01-26T12:04:57.772Z"
   },
   {
    "duration": 73,
    "start_time": "2022-01-26T12:04:57.865Z"
   },
   {
    "duration": 79,
    "start_time": "2022-01-26T12:04:57.940Z"
   },
   {
    "duration": 60,
    "start_time": "2022-01-26T12:04:58.020Z"
   },
   {
    "duration": 133,
    "start_time": "2022-01-26T12:04:58.083Z"
   },
   {
    "duration": 118,
    "start_time": "2022-01-26T12:04:58.309Z"
   },
   {
    "duration": 5,
    "start_time": "2022-01-26T12:04:58.428Z"
   },
   {
    "duration": 7,
    "start_time": "2022-01-26T12:09:37.751Z"
   }
  ],
  "kernelspec": {
   "display_name": "Python 3 (ipykernel)",
   "language": "python",
   "name": "python3"
  },
  "language_info": {
   "codemirror_mode": {
    "name": "ipython",
    "version": 3
   },
   "file_extension": ".py",
   "mimetype": "text/x-python",
   "name": "python",
   "nbconvert_exporter": "python",
   "pygments_lexer": "ipython3",
   "version": "3.9.7"
  },
  "toc": {
   "base_numbering": 1,
   "nav_menu": {},
   "number_sections": true,
   "sideBar": true,
   "skip_h1_title": true,
   "title_cell": "Table of Contents",
   "title_sidebar": "Contents",
   "toc_cell": false,
   "toc_position": {},
   "toc_section_display": true,
   "toc_window_display": false
  }
 },
 "nbformat": 4,
 "nbformat_minor": 2
}
